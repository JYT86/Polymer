{
 "cells": [
  {
   "cell_type": "code",
   "execution_count": 1,
   "id": "2f6f7fb0",
   "metadata": {},
   "outputs": [],
   "source": [
    "import pandas as pd\n",
    "import numpy as np"
   ]
  },
  {
   "cell_type": "code",
   "execution_count": 2,
   "id": "2abdef62",
   "metadata": {},
   "outputs": [
    {
     "data": {
      "text/html": [
       "<div>\n",
       "<style scoped>\n",
       "    .dataframe tbody tr th:only-of-type {\n",
       "        vertical-align: middle;\n",
       "    }\n",
       "\n",
       "    .dataframe tbody tr th {\n",
       "        vertical-align: top;\n",
       "    }\n",
       "\n",
       "    .dataframe thead th {\n",
       "        text-align: right;\n",
       "    }\n",
       "</style>\n",
       "<table border=\"1\" class=\"dataframe\">\n",
       "  <thead>\n",
       "    <tr style=\"text-align: right;\">\n",
       "      <th></th>\n",
       "      <th>id</th>\n",
       "      <th>SMILES</th>\n",
       "      <th>Tg</th>\n",
       "      <th>FFV</th>\n",
       "      <th>Tc</th>\n",
       "      <th>Density</th>\n",
       "      <th>Rg</th>\n",
       "    </tr>\n",
       "  </thead>\n",
       "  <tbody>\n",
       "    <tr>\n",
       "      <th>0</th>\n",
       "      <td>87817</td>\n",
       "      <td>*CC(*)c1ccccc1C(=O)OCCCCCC</td>\n",
       "      <td>NaN</td>\n",
       "      <td>0.374645</td>\n",
       "      <td>0.205667</td>\n",
       "      <td>NaN</td>\n",
       "      <td>NaN</td>\n",
       "    </tr>\n",
       "    <tr>\n",
       "      <th>1</th>\n",
       "      <td>106919</td>\n",
       "      <td>*Nc1ccc([C@H](CCC)c2ccc(C3(c4ccc([C@@H](CCC)c5...</td>\n",
       "      <td>NaN</td>\n",
       "      <td>0.370410</td>\n",
       "      <td>NaN</td>\n",
       "      <td>NaN</td>\n",
       "      <td>NaN</td>\n",
       "    </tr>\n",
       "    <tr>\n",
       "      <th>2</th>\n",
       "      <td>388772</td>\n",
       "      <td>*Oc1ccc(S(=O)(=O)c2ccc(Oc3ccc(C4(c5ccc(Oc6ccc(...</td>\n",
       "      <td>NaN</td>\n",
       "      <td>0.378860</td>\n",
       "      <td>NaN</td>\n",
       "      <td>NaN</td>\n",
       "      <td>NaN</td>\n",
       "    </tr>\n",
       "    <tr>\n",
       "      <th>3</th>\n",
       "      <td>519416</td>\n",
       "      <td>*Nc1ccc(-c2c(-c3ccc(C)cc3)c(-c3ccc(C)cc3)c(N*)...</td>\n",
       "      <td>NaN</td>\n",
       "      <td>0.387324</td>\n",
       "      <td>NaN</td>\n",
       "      <td>NaN</td>\n",
       "      <td>NaN</td>\n",
       "    </tr>\n",
       "    <tr>\n",
       "      <th>4</th>\n",
       "      <td>539187</td>\n",
       "      <td>*Oc1ccc(OC(=O)c2cc(OCCCCCCCCCOCC3CCCN3c3ccc([N...</td>\n",
       "      <td>NaN</td>\n",
       "      <td>0.355470</td>\n",
       "      <td>NaN</td>\n",
       "      <td>NaN</td>\n",
       "      <td>NaN</td>\n",
       "    </tr>\n",
       "  </tbody>\n",
       "</table>\n",
       "</div>"
      ],
      "text/plain": [
       "       id                                             SMILES  Tg       FFV  \\\n",
       "0   87817                         *CC(*)c1ccccc1C(=O)OCCCCCC NaN  0.374645   \n",
       "1  106919  *Nc1ccc([C@H](CCC)c2ccc(C3(c4ccc([C@@H](CCC)c5... NaN  0.370410   \n",
       "2  388772  *Oc1ccc(S(=O)(=O)c2ccc(Oc3ccc(C4(c5ccc(Oc6ccc(... NaN  0.378860   \n",
       "3  519416  *Nc1ccc(-c2c(-c3ccc(C)cc3)c(-c3ccc(C)cc3)c(N*)... NaN  0.387324   \n",
       "4  539187  *Oc1ccc(OC(=O)c2cc(OCCCCCCCCCOCC3CCCN3c3ccc([N... NaN  0.355470   \n",
       "\n",
       "         Tc  Density  Rg  \n",
       "0  0.205667      NaN NaN  \n",
       "1       NaN      NaN NaN  \n",
       "2       NaN      NaN NaN  \n",
       "3       NaN      NaN NaN  \n",
       "4       NaN      NaN NaN  "
      ]
     },
     "execution_count": 2,
     "metadata": {},
     "output_type": "execute_result"
    }
   ],
   "source": [
    "df = pd.read_csv('../data/train.csv')\n",
    "df.head()"
   ]
  },
  {
   "cell_type": "code",
   "execution_count": 6,
   "id": "309a0ba5",
   "metadata": {},
   "outputs": [
    {
     "data": {
      "text/plain": [
       "{'SMILES': 7973, 'Tg': 511, 'FFV': 7030, 'Tc': 737, 'Density': 613, 'Rg': 614}"
      ]
     },
     "execution_count": 6,
     "metadata": {},
     "output_type": "execute_result"
    }
   ],
   "source": [
    "counts = {\n",
    "    'SMILES':df['SMILES'].notna().sum(),\n",
    "    'Tg': df['Tg'].notna().sum(),\n",
    "    'FFV': df['FFV'].notna().sum(),\n",
    "    'Tc': df['Tc'].notna().sum(),\n",
    "    'Density': df['Density'].notna().sum(),\n",
    "    'Rg': df['Rg'].notna().sum()\n",
    "}\n",
    "counts"
   ]
  },
  {
   "cell_type": "code",
   "execution_count": 16,
   "id": "ef10cc49",
   "metadata": {},
   "outputs": [
    {
     "name": "stdout",
     "output_type": "stream",
     "text": [
      "*CC(*)C(=O)OCCCCCCOc1ccc(-c2ccc(C#N)cc2)cc1\n"
     ]
    },
    {
     "data": {
      "image/jpeg": "[encoded data removed]",
      "image/png": "[encoded data removed]",
      "text/plain": [
       "<PIL.PngImagePlugin.PngImageFile image mode=RGB size=300x300>"
      ]
     },
     "execution_count": 16,
     "metadata": {},
     "output_type": "execute_result"
    }
   ],
   "source": [
    "import rdkit\n",
    "from rdkit import Chem\n",
    "from rdkit.Chem import Draw\n",
    "i = 50\n",
    "print(df.loc[i, 'SMILES'])\n",
    "mol = Chem.MolFromSmiles(df.loc[i, 'SMILES'])\n",
    "Draw.MolToImage(mol)"
   ]
  },
  {
   "cell_type": "code",
   "execution_count": 24,
   "id": "4ff1cacf",
   "metadata": {},
   "outputs": [
    {
     "data": {
      "text/plain": [
       "tensor([[0., 1., 0., 0., 0., 0., 0.],\n",
       "        [6., 4., 0., 2., 0., 4., 0.],\n",
       "        [6., 4., 0., 1., 0., 4., 0.],\n",
       "        [0., 1., 0., 0., 0., 0., 0.],\n",
       "        [6., 3., 0., 0., 0., 3., 0.],\n",
       "        [8., 1., 0., 0., 0., 3., 0.],\n",
       "        [8., 2., 0., 0., 0., 3., 0.],\n",
       "        [6., 4., 0., 2., 0., 4., 0.],\n",
       "        [6., 4., 0., 2., 0., 4., 0.],\n",
       "        [6., 4., 0., 2., 0., 4., 0.],\n",
       "        [6., 4., 0., 2., 0., 4., 0.],\n",
       "        [6., 4., 0., 2., 0., 4., 0.],\n",
       "        [6., 4., 0., 2., 0., 4., 0.],\n",
       "        [8., 2., 0., 0., 0., 3., 0.],\n",
       "        [6., 3., 0., 0., 1., 3., 1.],\n",
       "        [6., 3., 0., 1., 1., 3., 1.],\n",
       "        [6., 3., 0., 1., 1., 3., 1.],\n",
       "        [6., 3., 0., 0., 1., 3., 1.],\n",
       "        [6., 3., 0., 0., 1., 3., 1.],\n",
       "        [6., 3., 0., 1., 1., 3., 1.],\n",
       "        [6., 3., 0., 1., 1., 3., 1.],\n",
       "        [6., 3., 0., 0., 1., 3., 1.],\n",
       "        [6., 2., 0., 0., 0., 2., 0.],\n",
       "        [7., 1., 0., 0., 0., 2., 0.],\n",
       "        [6., 3., 0., 1., 1., 3., 1.],\n",
       "        [6., 3., 0., 1., 1., 3., 1.],\n",
       "        [6., 3., 0., 1., 1., 3., 1.],\n",
       "        [6., 3., 0., 1., 1., 3., 1.]])"
      ]
     },
     "execution_count": 24,
     "metadata": {},
     "output_type": "execute_result"
    }
   ],
   "source": [
    "from torch_geometric.data import Data\n",
    "import torch\n",
    "\n",
    "def mol_to_graph(smiles: str) -> Data:\n",
    "    mol = Chem.MolFromSmiles(smiles)\n",
    "    \n",
    "    atom_features = []\n",
    "    for atom in mol.GetAtoms():\n",
    "            atom_features.append([\n",
    "            atom.GetAtomicNum(),                      # 原子序号（C=6, O=8...）\n",
    "            atom.GetTotalDegree(),                    # 键连数\n",
    "            atom.GetFormalCharge(),                   # 形式电荷\n",
    "            atom.GetTotalNumHs(),                     # 氢原子数（包括显式/隐式）\n",
    "            int(atom.GetIsAromatic()),                # 是否为芳香性\n",
    "            int(atom.GetHybridization()),             # 杂化类型（SP=0, SP2=1, ...）\n",
    "            int(atom.IsInRing()),                     # 是否在环中    \n",
    "        ])\n",
    "\n",
    "    edge_index = []\n",
    "    edge_attr = []\n",
    "    for bond in mol.GetBonds():\n",
    "        i = bond.GetBeginAtomIdx()\n",
    "        j = bond.GetEndAtomIdx()\n",
    "        bond_type = bond.GetBondTypeAsDouble() # 键型\n",
    "\n",
    "        edge_index += [[i, j], [j, i]]\n",
    "        edge_attr += [[bond_type], [bond_type]]\n",
    "\n",
    "    data = Data(\n",
    "        x=torch.tensor(atom_features, dtype=torch.float),\n",
    "        edge_index=torch.tensor(edge_index, dtype=torch.long).t().contiguous(),\n",
    "        edge_attr=torch.tensor(edge_attr, dtype=torch.float)\n",
    "    )\n",
    "\n",
    "    return data\n",
    "gometric_data = mol_to_graph(df.loc[i, 'SMILES'])\n",
    "gometric_data.x"
   ]
  },
  {
   "cell_type": "code",
   "execution_count": null,
   "id": "bf86e1a9",
   "metadata": {},
   "outputs": [],
   "source": []
  }
 ],
 "metadata": {
  "kernelspec": {
   "display_name": "myenv",
   "language": "python",
   "name": "python3"
  },
  "language_info": {
   "codemirror_mode": {
    "name": "ipython",
    "version": 3
   },
   "file_extension": ".py",
   "mimetype": "text/x-python",
   "name": "python",
   "nbconvert_exporter": "python",
   "pygments_lexer": "ipython3",
   "version": "3.11.9"
  }
 },
 "nbformat": 4,
 "nbformat_minor": 5
}
